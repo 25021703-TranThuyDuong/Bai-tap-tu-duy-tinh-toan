{
 "cells": [
  {
   "cell_type": "code",
   "execution_count": null,
   "id": "aa39a88b",
   "metadata": {},
   "outputs": [],
   "source": [
    "a= int(input(\"a = \"))\n",
    "b= int(input(\"b = \"))\n",
    "tong = a + b\n",
    "hieu = a - b\n",
    "tich = a*b\n",
    "phannguyen= a//b\n",
    "phandu= a%b\n",
    "print( f\"{a} + {b} = {tong}\")\n",
    "print( f\"{a} - {b} = {hieu}\")\n",
    "print( f\"{a} * {b} = {tich}\")\n",
    "print( f\"{a} // {b} = {phannguyen}\")\n",
    "print( f\"{a} % {b} = {phandu}\")"
   ]
  }
 ],
 "metadata": {
  "kernelspec": {
   "display_name": "Python 3",
   "language": "python",
   "name": "python3"
  },
  "language_info": {
   "codemirror_mode": {
    "name": "ipython",
    "version": 3
   },
   "file_extension": ".py",
   "mimetype": "text/x-python",
   "name": "python",
   "nbconvert_exporter": "python",
   "pygments_lexer": "ipython3",
   "version": "3.13.7"
  }
 },
 "nbformat": 4,
 "nbformat_minor": 5
}
