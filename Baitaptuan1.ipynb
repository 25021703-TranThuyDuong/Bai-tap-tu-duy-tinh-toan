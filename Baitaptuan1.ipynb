{
  "cells": [
    {
      "cell_type": "markdown",
      "id": "97e0beaa",
      "metadata": {
        "id": "97e0beaa"
      },
      "source": [
        "# W2A1"
      ]
    },
    {
      "cell_type": "code",
      "execution_count": null,
      "id": "6e77830d",
      "metadata": {
        "id": "6e77830d"
      },
      "outputs": [],
      "source": [
        "print(\"Hello World!\")"
      ]
    },
    {
      "cell_type": "markdown",
      "id": "f5814456",
      "metadata": {
        "id": "f5814456"
      },
      "source": [
        "# W2A2"
      ]
    },
    {
      "cell_type": "code",
      "execution_count": null,
      "id": "fb3051f2",
      "metadata": {
        "id": "fb3051f2"
      },
      "outputs": [],
      "source": [
        "a=input(\"Ho va ten:\")\n",
        "print(\"Xin chào\",a)"
      ]
    },
    {
      "cell_type": "markdown",
      "id": "0663ffd0",
      "metadata": {
        "id": "0663ffd0"
      },
      "source": [
        "# W2A3"
      ]
    },
    {
      "cell_type": "code",
      "execution_count": null,
      "id": "88ac1093",
      "metadata": {
        "id": "88ac1093"
      },
      "outputs": [],
      "source": [
        "a= int(input('a ='))\n",
        "b= int(input('b ='))\n",
        "tong = a + b\n",
        "hieu = a - b\n",
        "tich = a*b\n",
        "phannguyen= a//b\n",
        "phandu= a%b\n",
        "print( f\"{a} + {b} = {tong}\")\n",
        "print( f\"{a} - {b} = {hieu}\")\n",
        "print( f\"{a} * {b} = {tich}\")\n",
        "print( f\"{a} // {b} = {phannguyen}\")\n",
        "print( f\"{a} % {b} = {phandu}\")"
      ]
    },
    {
      "cell_type": "markdown",
      "source": [
        "# W2A4\n"
      ],
      "metadata": {
        "id": "LvwAgAcbSXmA"
      },
      "id": "LvwAgAcbSXmA"
    },
    {
      "cell_type": "code",
      "execution_count": null,
      "id": "aa8da63f",
      "metadata": {
        "id": "aa8da63f"
      },
      "outputs": [],
      "source": [
        "diem = input().split()\n",
        "a, b, c, d, e, f= map(float,diem)\n",
        "tb = (a+b+c+(d+e)*2+(f*3))/10\n",
        "print(f\" diem trung binh: {tb:.1f}\")"
      ]
    },
    {
      "cell_type": "markdown",
      "source": [
        "W2A5"
      ],
      "metadata": {
        "id": "Y0CmJUCCSdlV"
      },
      "id": "Y0CmJUCCSdlV"
    },
    {
      "cell_type": "code",
      "source": [
        "a,b= map(int, input().split())\n",
        "tinh= a**b\n",
        "print (tinh)"
      ],
      "metadata": {
        "id": "Q5e5W-2tRZzH"
      },
      "id": "Q5e5W-2tRZzH",
      "execution_count": null,
      "outputs": []
    },
    {
      "cell_type": "markdown",
      "source": [
        "W2A6"
      ],
      "metadata": {
        "id": "_XRbzq5xSkaQ"
      },
      "id": "_XRbzq5xSkaQ"
    },
    {
      "cell_type": "code",
      "source": [
        "char = input(\"Nhap vao ki tu chu cai thuong (a-z):\")\n",
        "if len(char) == 1 and \"a\"<= char <= \"z\":\n",
        "    unicode = ord(char)\n",
        "    print(f\"Ma unicode cua {char} la: {unicode}\")\n",
        "\n",
        "    uppercharcode = unicode - 32\n",
        "    upperchar = chr(uppercharcode)\n",
        "    print(f\"Ky tu hoa tuong ung la: {upperchar}\")\n",
        "    print(f\"Ma unicode cua {upperchar} la: {uppercharcode}\")\n",
        "else:\n",
        "    print(\"Vui long nhap lai\")"
      ],
      "metadata": {
        "id": "D0Z8v5U7Sqv9"
      },
      "id": "D0Z8v5U7Sqv9",
      "execution_count": null,
      "outputs": []
    },
    {
      "cell_type": "markdown",
      "source": [
        "W2A7"
      ],
      "metadata": {
        "id": "Cs9vp0XRS76e"
      },
      "id": "Cs9vp0XRS76e"
    },
    {
      "cell_type": "code",
      "source": [
        "A = ((13**2)*3)+5\n",
        "B = 13**2*3 + 5\n",
        "print(A)\n",
        "print(B)"
      ],
      "metadata": {
        "id": "neE461U-Sxe4"
      },
      "id": "neE461U-Sxe4",
      "execution_count": null,
      "outputs": []
    },
    {
      "cell_type": "markdown",
      "source": [
        "W2A8"
      ],
      "metadata": {
        "id": "8LdS06UnTBBh"
      },
      "id": "8LdS06UnTBBh"
    },
    {
      "cell_type": "code",
      "source": [
        "C = int(input(\"Nhiet do theo thang do C: \"))\n",
        "F = 1.8*C + 32\n",
        "print(f\" Doi theo thang do F: {F:.2f}\")"
      ],
      "metadata": {
        "id": "PeuNE2koTvvY"
      },
      "id": "PeuNE2koTvvY",
      "execution_count": null,
      "outputs": []
    },
    {
      "cell_type": "markdown",
      "source": [
        "W2A9"
      ],
      "metadata": {
        "id": "QNmR_a7ZTFHf"
      },
      "id": "QNmR_a7ZTFHf"
    },
    {
      "cell_type": "code",
      "source": [
        "C = int(input(\"Nhiet do theo thang do C: \"))\n",
        "F = 1.8*C + 32\n",
        "print(f\" Doi theo thang do F: {F:.2f}\")"
      ],
      "metadata": {
        "id": "tLfgChmaTwbq"
      },
      "id": "tLfgChmaTwbq",
      "execution_count": null,
      "outputs": []
    },
    {
      "cell_type": "markdown",
      "source": [
        "W2A10"
      ],
      "metadata": {
        "id": "GEjvrAfdTHC9"
      },
      "id": "GEjvrAfdTHC9"
    },
    {
      "cell_type": "code",
      "source": [
        "name = input(\"nhap ten 3 nguoi (cach nhau bang dau cach)\").split()\n",
        "if len(name) != 3:\n",
        "    print(\"Vui long nhap lai dung 3 ten\")\n",
        "else:\n",
        "    print(f\"Hi {name[2]}, {name[1]}, {name[0]}\")"
      ],
      "metadata": {
        "id": "TXg_eX2LTzC7"
      },
      "id": "TXg_eX2LTzC7",
      "execution_count": null,
      "outputs": []
    },
    {
      "cell_type": "markdown",
      "source": [
        "W2A11"
      ],
      "metadata": {
        "id": "eEjhpkVzTKPB"
      },
      "id": "eEjhpkVzTKPB"
    },
    {
      "cell_type": "code",
      "source": [
        "h = int(input(\"Nhap so gio: \"))\n",
        "m = int(input(\"Nhap so phut: \"))\n",
        "s = h*3600 + m*60\n",
        "print(f\"So giay la: {s}\")"
      ],
      "metadata": {
        "id": "uMbIrjx9T12c"
      },
      "id": "uMbIrjx9T12c",
      "execution_count": null,
      "outputs": []
    },
    {
      "cell_type": "markdown",
      "source": [
        "W2A12"
      ],
      "metadata": {
        "id": "ZPwzlq7iTMDz"
      },
      "id": "ZPwzlq7iTMDz"
    },
    {
      "cell_type": "code",
      "source": [
        "def rubik(n):\n",
        "    return 6*n*n\n",
        "print(f\"Khoi rubik 1x1x1 {rubik(1)} mieng dan\")\n",
        "print(f\"Khoi rubik 2x2x2 {rubik(2)} mieng dan\")\n",
        "print(f\"Khoi rubik 3x3x3 {rubik(3)} mieng dan\")\n",
        "print(f\"Khoi rubik 4x4x4 {rubik(4)} mieng dan\")"
      ],
      "metadata": {
        "id": "l7JIPadTT4F3"
      },
      "id": "l7JIPadTT4F3",
      "execution_count": null,
      "outputs": []
    },
    {
      "cell_type": "markdown",
      "source": [
        "W2A13"
      ],
      "metadata": {
        "id": "mQqGSvMTTOlr"
      },
      "id": "mQqGSvMTTOlr"
    },
    {
      "cell_type": "code",
      "source": [
        "a = int(input(\"Nhập số a: \"))\n",
        "b = int(input(\"Nhập số b: \"))\n",
        "\n",
        "print(\"Hàng đơn vị của tích:\", (a * b) % 10)"
      ],
      "metadata": {
        "id": "Z8vS0ERhT-gH"
      },
      "id": "Z8vS0ERhT-gH",
      "execution_count": null,
      "outputs": []
    },
    {
      "cell_type": "markdown",
      "source": [
        "W2A14"
      ],
      "metadata": {
        "id": "dZeBRywlTSkW"
      },
      "id": "dZeBRywlTSkW"
    },
    {
      "cell_type": "code",
      "source": [
        "a = 5\n",
        "b = 20\n",
        "\n",
        "print(f\"Trước khi hoán đổi: a = {a}, b = {b}\")\n",
        "a, b = b, a\n",
        "\n",
        "print(f\"Sau khi hoán đổi: a = {a}, b = {b}\")\n"
      ],
      "metadata": {
        "id": "fdWlrqGUUBZz"
      },
      "id": "fdWlrqGUUBZz",
      "execution_count": null,
      "outputs": []
    },
    {
      "cell_type": "markdown",
      "source": [
        "W2A15"
      ],
      "metadata": {
        "id": "hFXl4lY4TV_c"
      },
      "id": "hFXl4lY4TV_c"
    },
    {
      "cell_type": "code",
      "source": [
        "def star_number(n):\n",
        "    if n <= 0:\n",
        "        raise ValueError(\"n phải là số nguyên dương\")\n",
        "    return 6 * n * (n - 1) + 1\n",
        "def main():\n",
        "    try:\n",
        "        n = int(input(\"Nhập số nguyên dương n: \"))\n",
        "        if n <= 0:\n",
        "            print(\"Vui lòng nhập số nguyên dương\")\n",
        "            return\n",
        "        print(f\"Số sao thứ {n} là: {star_number(n)}\")\n",
        "    except ValueError:\n",
        "        print(\"Giá trị nhập không hợp lệ. Vui lòng nhập số nguyên.\")\n",
        "if __name__ == \"__main__\":\n",
        "    main()\n"
      ],
      "metadata": {
        "id": "ySuMdBhZUCO0"
      },
      "id": "ySuMdBhZUCO0",
      "execution_count": null,
      "outputs": []
    },
    {
      "cell_type": "markdown",
      "source": [
        "W2A16"
      ],
      "metadata": {
        "id": "reWBRKq5TaRQ"
      },
      "id": "reWBRKq5TaRQ"
    },
    {
      "cell_type": "code",
      "source": [
        "seasons = [\"Spring\", \"Summer\", \"Autumn\", \"Winter\"]\n",
        "for season in seasons:\n",
        "    print(season)"
      ],
      "metadata": {
        "id": "bxFOwyMMUJXa"
      },
      "id": "bxFOwyMMUJXa",
      "execution_count": null,
      "outputs": []
    },
    {
      "cell_type": "markdown",
      "source": [
        "W2A17"
      ],
      "metadata": {
        "id": "axlz70pSTgMP"
      },
      "id": "axlz70pSTgMP"
    },
    {
      "cell_type": "code",
      "source": [
        "print(\"*\" * 1 + \" \" * 4)\n",
        "print(\"*\" * 3 + \" \" * 2)\n",
        "print(\"*\" * 5)\n"
      ],
      "metadata": {
        "id": "RFmm-PaGUNU0"
      },
      "id": "RFmm-PaGUNU0",
      "execution_count": null,
      "outputs": []
    },
    {
      "cell_type": "markdown",
      "source": [
        "W2A18"
      ],
      "metadata": {
        "id": "ysd5-hJaTi7_"
      },
      "id": "ysd5-hJaTi7_"
    },
    {
      "cell_type": "code",
      "source": [
        "print(\"### # #  ### ###\")\n",
        "print(\" #  # #   #   # \")\n",
        "print(\" #  # #   #   # \")\n",
        "print(\" #  # #   #   # \")\n",
        "print(\" #   #    #   # \")\n"
      ],
      "metadata": {
        "id": "Bu39yGn3UO4s"
      },
      "id": "Bu39yGn3UO4s",
      "execution_count": null,
      "outputs": []
    },
    {
      "cell_type": "markdown",
      "source": [
        "W2A19"
      ],
      "metadata": {
        "id": "NkdSk57lTlXE"
      },
      "id": "NkdSk57lTlXE"
    },
    {
      "cell_type": "code",
      "source": [
        "days = (\"Monday\", \"Tuesday\", \"Wednesday\", \"Thursday\", \"Friday\", \"Saturday\", \"Sunday\")\n",
        "\n",
        "for day in days:\n",
        "    print(day)\n"
      ],
      "metadata": {
        "id": "fG5wN8yiUQvc"
      },
      "id": "fG5wN8yiUQvc",
      "execution_count": null,
      "outputs": []
    },
    {
      "cell_type": "markdown",
      "source": [
        "W2A20"
      ],
      "metadata": {
        "id": "dHNsRt5QTpYN"
      },
      "id": "dHNsRt5QTpYN"
    },
    {
      "cell_type": "code",
      "source": [
        "months = [ \"January\", \"February\", \"March\", \"April\", \"May\", \"June\",\n",
        "    \"July\", \"August\", \"September\", \"October\", \"November\", \"December\"]\n",
        "\n",
        "for month in months:\n",
        "    print(month)\n"
      ],
      "metadata": {
        "id": "RzmgMFluUS1I"
      },
      "id": "RzmgMFluUS1I",
      "execution_count": null,
      "outputs": []
    },
    {
      "cell_type": "markdown",
      "source": [
        "W2A21"
      ],
      "metadata": {
        "id": "qXKiFMaxTrjw"
      },
      "id": "qXKiFMaxTrjw"
    },
    {
      "cell_type": "code",
      "source": [
        "for i in range(10):\n",
        "    print(\"Hello, world\")\n"
      ],
      "metadata": {
        "id": "W7xRRnX3UWON"
      },
      "id": "W7xRRnX3UWON",
      "execution_count": null,
      "outputs": []
    }
  ],
  "metadata": {
    "kernelspec": {
      "display_name": "Python 3",
      "language": "python",
      "name": "python3"
    },
    "language_info": {
      "codemirror_mode": {
        "name": "ipython",
        "version": 3
      },
      "file_extension": ".py",
      "mimetype": "text/x-python",
      "name": "python",
      "nbconvert_exporter": "python",
      "pygments_lexer": "ipython3",
      "version": "3.13.7"
    },
    "colab": {
      "provenance": []
    }
  },
  "nbformat": 4,
  "nbformat_minor": 5
}