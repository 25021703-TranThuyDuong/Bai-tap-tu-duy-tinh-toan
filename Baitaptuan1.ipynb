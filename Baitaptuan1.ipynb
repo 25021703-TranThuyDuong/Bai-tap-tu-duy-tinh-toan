{
 "cells": [
  {
   "cell_type": "markdown",
   "id": "97e0beaa",
   "metadata": {},
   "source": [
    "# W2A1"
   ]
  },
  {
   "cell_type": "code",
   "execution_count": null,
   "id": "6e77830d",
   "metadata": {},
   "outputs": [],
   "source": [
    "print(\"Hello World!\")"
   ]
  },
  {
   "cell_type": "markdown",
   "id": "f5814456",
   "metadata": {},
   "source": [
    "# W2A2"
   ]
  },
  {
   "cell_type": "code",
   "execution_count": null,
   "id": "fb3051f2",
   "metadata": {},
   "outputs": [],
   "source": [
    "a=input(\"Ho va ten:\")\n",
    "print(\"Xin chào\",a)"
   ]
  },
  {
   "cell_type": "markdown",
   "id": "0663ffd0",
   "metadata": {},
   "source": [
    "# W2A3"
   ]
  },
  {
   "cell_type": "code",
   "execution_count": null,
   "id": "88ac1093",
   "metadata": {},
   "outputs": [],
   "source": [
    "a= int(input('a ='))\n",
    "b= int(input('b ='))\n",
    "tong = a + b\n",
    "hieu = a - b\n",
    "tich = a*b\n",
    "phannguyen= a//b\n",
    "phandu= a%b\n",
    "print( f\"{a} + {b} = {tong}\")\n",
    "print( f\"{a} - {b} = {hieu}\")\n",
    "print( f\"{a} * {b} = {tich}\")\n",
    "print( f\"{a} // {b} = {phannguyen}\")\n",
    "print( f\"{a} % {b} = {phandu}\")"
   ]
  },
  {
   "cell_type": "code",
   "execution_count": null,
   "id": "aa8da63f",
   "metadata": {},
   "outputs": [],
   "source": [
    "diem = input().split()\n",
    "a, b, c, d, e, f= map(float,diem)\n",
    "tb = (a+b+c+(d+e)*2+(f*3))/10\n",
    "print(f\" diem trung binh: {tb:.1f}\")"
   ]
  }
 ],
 "metadata": {
  "kernelspec": {
   "display_name": "Python 3",
   "language": "python",
   "name": "python3"
  },
  "language_info": {
   "codemirror_mode": {
    "name": "ipython",
    "version": 3
   },
   "file_extension": ".py",
   "mimetype": "text/x-python",
   "name": "python",
   "nbconvert_exporter": "python",
   "pygments_lexer": "ipython3",
   "version": "3.13.7"
  }
 },
 "nbformat": 4,
 "nbformat_minor": 5
}
